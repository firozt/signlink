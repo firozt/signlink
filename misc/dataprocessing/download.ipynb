{
 "cells": [
  {
   "cell_type": "code",
   "execution_count": 1,
   "metadata": {},
   "outputs": [],
   "source": [
    "# all necessary imports\n",
    "import os\n",
    "import pandas as pd\n",
    "import requests\n"
   ]
  },
  {
   "cell_type": "code",
   "execution_count": null,
   "metadata": {},
   "outputs": [],
   "source": [
    "# defining download function\n",
    "def download_video(url, org_text):\n",
    "    video_dir = os.path.join('..', 'videos', org_text)\n",
    "    os.makedirs(video_dir, exist_ok=True)\n",
    "    file_name = os.path.basename(url)\n",
    "    video_path = os.path.join(video_dir, file_name)\n",
    "    \n",
    "    # Download the video file\n",
    "    with open(video_path, 'wb') as f:\n",
    "        response = requests.get(url)\n",
    "        f.write(response.content)\n",
    "    \n",
    "    print(f\"Downloaded {file_name} to {video_path}\")"
   ]
  }
 ],
 "metadata": {
  "kernelspec": {
   "display_name": "Python 3",
   "language": "python",
   "name": "python3"
  },
  "language_info": {
   "codemirror_mode": {
    "name": "ipython",
    "version": 3
   },
   "file_extension": ".py",
   "mimetype": "text/x-python",
   "name": "python",
   "nbconvert_exporter": "python",
   "pygments_lexer": "ipython3",
   "version": "3.12.2"
  }
 },
 "nbformat": 4,
 "nbformat_minor": 2
}
